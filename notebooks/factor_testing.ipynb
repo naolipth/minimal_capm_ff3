{
 "cells": [
  {
   "cell_type": "code",
   "execution_count": null,
   "outputs": [],
   "source": [
    "%load_ext autoreload\n",
    "%autoreload 2\n",
    "from matplotlib import pyplot as plt\n",
    "\n",
    "from factortest.preprocess_data.load_data import load_sp500_tickers, fetch_data_from_yahoo, fetch_fama_french_monthly_factors, generate_monthly_returns_from_daily_price_data\n",
    "from factortest.estimate.factor_model import estimate_ff3, estimate_capm, estimate_factor_exposure\n",
    "\n",
    "import datetime\n",
    "\n",
    "import warnings\n",
    "\n",
    "warnings.filterwarnings('ignore')\n"
   ],
   "metadata": {
    "collapsed": false
   },
   "id": "e091349170506e5b"
  },
  {
   "cell_type": "code",
   "execution_count": null,
   "outputs": [],
   "source": [
    "companies = load_sp500_tickers()\n",
    "companies"
   ],
   "metadata": {
    "collapsed": false
   },
   "id": "initial_id"
  },
  {
   "cell_type": "code",
   "execution_count": null,
   "outputs": [],
   "source": [
    "start = datetime.datetime(2000, 1, 1)\n",
    "end = datetime.datetime(2023, 1, 1)\n",
    "market_data = fetch_data_from_yahoo(companies, start,end)\n",
    "market_data"
   ],
   "metadata": {
    "collapsed": false
   },
   "id": "2bdec6831f3a6ef2"
  },
  {
   "cell_type": "code",
   "execution_count": null,
   "outputs": [],
   "source": [
    "factors = fetch_fama_french_monthly_factors()\n",
    "factors"
   ],
   "metadata": {
    "collapsed": false
   },
   "id": "830fea8f624cd25e"
  },
  {
   "cell_type": "code",
   "execution_count": null,
   "outputs": [],
   "source": [
    "price_column = 'Adj Close'\n",
    "ticker_column = 'Symbol'\n",
    "date_column = 'Date'\n",
    "monthly_returns = generate_monthly_returns_from_daily_price_data(market_data, price_column, ticker_column, date_column)\n",
    "monthly_returns"
   ],
   "metadata": {
    "collapsed": false
   },
   "id": "aa743ace7a17c165"
  },
  {
   "cell_type": "code",
   "execution_count": null,
   "outputs": [],
   "source": [
    "monthly_returns = monthly_returns.join(factors, on='Date', how='left')\n",
    "monthly_returns['Excess Return'] = monthly_returns['Monthly Returns'] - monthly_returns['RF']"
   ],
   "metadata": {
    "collapsed": false
   },
   "id": "c6e0d6afbb8ce5ab"
  },
  {
   "cell_type": "code",
   "execution_count": null,
   "outputs": [],
   "source": [
    "monthly_returns.sort_values(by='Date')\n",
    "monthly_returns['ex_ret_1'] = monthly_returns.groupby('Symbol')['Excess Return'].shift(-1)\n",
    "monthly_returns = monthly_returns.dropna(subset=['ex_ret_1']).dropna(subset=['HML'])\n",
    "monthly_returns.describe()"
   ],
   "metadata": {
    "collapsed": false
   },
   "id": "1ace5fbdc35c1686"
  },
  {
   "cell_type": "code",
   "execution_count": null,
   "outputs": [],
   "source": [
    "LHS = 'ex_ret_1'\n",
    "MARKET = 'Mkt-RF'\n",
    "FF = ['Mkt-RF', 'SMB', 'HML']"
   ],
   "metadata": {
    "collapsed": false
   },
   "id": "1ef5b28e534dc27e"
  },
  {
   "cell_type": "code",
   "execution_count": null,
   "outputs": [],
   "source": [
    "factor_betas, factor_pvalues = estimate_ff3(monthly_returns, left_hand_side_variable=LHS, right_hand_side_variables=FF,\n",
    "                                      ticker_column=ticker_column)\n",
    "factor_betas"
   ],
   "metadata": {
    "collapsed": false
   },
   "id": "4a034a9255c7b7dd"
  },
  {
   "cell_type": "code",
   "execution_count": null,
   "outputs": [],
   "source": [
    "capm_betas, capm_pvalues = estimate_capm(monthly_returns, left_hand_side_variable=LHS,\n",
    "                                           right_hand_side_variable=MARKET,\n",
    "                                           ticker_column=ticker_column)\n",
    "capm_betas"
   ],
   "metadata": {
    "collapsed": false
   },
   "id": "b1e24543ca893072"
  },
  {
   "cell_type": "code",
   "execution_count": null,
   "outputs": [],
   "source": [
    "ticker = 'TSLA'\n",
    "\n",
    "to_plot = monthly_returns[monthly_returns['Symbol'].isin([ticker])]\n",
    "to_plot.plot(kind='scatter', x='Mkt-RF', y='Excess Return', figsize=(8, 8))\n",
    "plt.plot(to_plot['Mkt-RF'],\n",
    "         capm_betas['Mkt-RF'].filter(like=ticker).values.astype(float) * to_plot['Mkt-RF'] + capm_betas[\n",
    "             'const'].filter(like=ticker).values.astype(float), '-', color='r')\n",
    "plt.text(-0.15, -1.3,\n",
    "         f\"P-value of market beta: {capm_pvalues['Mkt-RF'].filter(like=ticker).values.item(0):.3f}\")\n",
    "plt.show()"
   ],
   "metadata": {
    "collapsed": false
   },
   "id": "6355872b5888e90f"
  },
  {
   "cell_type": "code",
   "execution_count": null,
   "outputs": [],
   "source": [
    "monthly_returns_2 = monthly_returns.join(factor_betas, on='Symbol', how='left', rsuffix='_b')\n",
    "monthly_returns_2"
   ],
   "metadata": {
    "collapsed": false
   },
   "id": "cf7908c66c058267"
  },
  {
   "cell_type": "code",
   "execution_count": null,
   "outputs": [],
   "source": [
    "factor_beta_column_names = ['Mkt-RF_b', 'SMB_b', 'HML_b']\n",
    "capm_beta_column_name = ['Mkt-RF_b']\n",
    "LHS = 'ex_ret_1'\n",
    "\n",
    "lambda_pd, lambda_pvalues = estimate_factor_exposure(monthly_returns_2, expected_return=LHS, factor_betas=factor_beta_column_names)\n",
    "lambda_pd"
   ],
   "metadata": {
    "collapsed": false
   },
   "id": "3827815806c573be"
  },
  {
   "cell_type": "code",
   "execution_count": null,
   "outputs": [],
   "source": [
    "lambda_pd.mean().rename('Mean factor exposure')"
   ],
   "metadata": {
    "collapsed": false
   },
   "id": "df48b566efa1124b"
  },
  {
   "cell_type": "code",
   "execution_count": null,
   "outputs": [],
   "source": [
    "window_length = 12\n",
    "\n",
    "ax1 = plt.subplot2grid((1, 3), (0, 0))\n",
    "ax2 = plt.subplot2grid((1, 3), (0, 1), colspan=2)\n",
    "ax2.margins(0.01)\n",
    "lambda_pd.mean().plot.barh(ax=ax1)\n",
    "lambdas0 = lambda_pd.rolling(window_length).mean().dropna()\n",
    "lambdas0.plot(lw=2, figsize=(17, 8), ax=ax2)\n",
    "ax2.legend(bbox_to_anchor=(1.025, 1.05))\n",
    "plt.show()\n",
    "\n",
    "lambda_pd.rolling(window_length).mean().dropna().plot(lw=2, figsize=(14, 20), subplots=True, sharey=True, sharex=True)\n",
    "plt.show()"
   ],
   "metadata": {
    "collapsed": false
   },
   "id": "b02463f6ddda1249"
  },
  {
   "cell_type": "code",
   "execution_count": null,
   "outputs": [],
   "source": [],
   "metadata": {
    "collapsed": false
   },
   "id": "95eb6fd8b474d290"
  }
 ],
 "metadata": {
  "kernelspec": {
   "display_name": "Python 3",
   "language": "python",
   "name": "python3"
  },
  "language_info": {
   "codemirror_mode": {
    "name": "ipython",
    "version": 2
   },
   "file_extension": ".py",
   "mimetype": "text/x-python",
   "name": "python",
   "nbconvert_exporter": "python",
   "pygments_lexer": "ipython2",
   "version": "2.7.6"
  }
 },
 "nbformat": 4,
 "nbformat_minor": 5
}
